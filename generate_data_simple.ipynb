{
 "cells": [
  {
   "cell_type": "code",
   "execution_count": 9,
   "metadata": {},
   "outputs": [],
   "source": [
    "import numpy as np\n",
    "\n",
    "num_classes = 10\n",
    "num_samples_per_class = 10\n",
    "num_feature_vec_per_example = 10\n",
    "feature_dim = 20\n",
    "num_descriptive = 3\n",
    "\n",
    "descriptive_prototypes = []\n",
    "\n",
    "for i in range(num_classes):\n",
    "    \n",
    "    descriptive_per_class = []\n",
    "    \n",
    "    for j in range(num_descriptive):\n",
    "       descriptive_per_class.append(np.random.rand(feature_dim))\n",
    "    \n",
    "    descriptive_prototypes.append(descriptive_per_class)\n",
    "\n",
    "dataset = []\n",
    "\n",
    "for i in range(num_classes):\n",
    "\n",
    "    clas = []\n",
    "    \n",
    "    for j in range(num_samples_per_class):\n",
    "        sample = []\n",
    "        \n",
    "        for k in range(num_feature_vec_per_example):\n",
    "            if k < num_descriptive: \n",
    "                vector = descriptive_prototypes[i][k] + np.random.normal(0, .1, feature_dim)\n",
    "            else:        \n",
    "                vector = np.random.rand(feature_dim) \n",
    "            sample.append(vector)\n",
    "        clas.append(sample)\n",
    "    dataset.append(clas)"
   ]
  },
  {
   "cell_type": "code",
   "execution_count": 10,
   "metadata": {},
   "outputs": [
    {
     "data": {
      "text/plain": [
       "(20,)"
      ]
     },
     "execution_count": 10,
     "metadata": {},
     "output_type": "execute_result"
    }
   ],
   "source": [
    "dataset[0][0][0].shape"
   ]
  },
  {
   "cell_type": "code",
   "execution_count": null,
   "metadata": {},
   "outputs": [],
   "source": []
  }
 ],
 "metadata": {
  "kernelspec": {
   "display_name": "Python 3",
   "language": "python",
   "name": "python3"
  },
  "language_info": {
   "codemirror_mode": {
    "name": "ipython",
    "version": 3
   },
   "file_extension": ".py",
   "mimetype": "text/x-python",
   "name": "python",
   "nbconvert_exporter": "python",
   "pygments_lexer": "ipython3",
   "version": "3.7.6"
  }
 },
 "nbformat": 4,
 "nbformat_minor": 4
}
